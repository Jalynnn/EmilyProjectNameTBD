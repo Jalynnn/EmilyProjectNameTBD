{
 "cells": [
  {
   "cell_type": "code",
   "execution_count": null,
   "metadata": {},
   "outputs": [],
   "source": [
    "# pip install websockets pylsl"
   ]
  },
  {
   "cell_type": "code",
   "execution_count": 5,
   "metadata": {},
   "outputs": [
    {
     "name": "stdout",
     "output_type": "stream",
     "text": [
      "WebSocket server running in background...\n"
     ]
    },
    {
     "name": "stdout",
     "output_type": "stream",
     "text": [
      "Starting WebSocket Server on ws://localhost:8765\n"
     ]
    }
   ],
   "source": [
    "import asyncio\n",
    "import websockets\n",
    "import json\n",
    "from pylsl import StreamInfo, StreamOutlet\n",
    "\n",
    "# Create an LSL stream\n",
    "info = StreamInfo('WebSocketLSL', 'Markers', 1, 0, 'string', 'myuid12345')\n",
    "outlet = StreamOutlet(info)\n",
    "\n",
    "# Accept a variable number of arguments so it works with either 1 or 2 parameters.\n",
    "async def handle_connection(websocket, *args):\n",
    "    # If a path is provided, use it; otherwise, default to None\n",
    "    path = args[0] if args else None\n",
    "    print(f\"Client connected. Path: {path}\")\n",
    "\n",
    "    try:\n",
    "        async for message in websocket:\n",
    "            print(f\"Received WebSocket message: {message}\")\n",
    "\n",
    "            try:\n",
    "                data = json.loads(message)\n",
    "                event_marker = data.get(\"event\", \"UNKNOWN_EVENT\")\n",
    "                timestamp = data.get(\"timestamp\", \"No timestamp\")\n",
    "\n",
    "                # Push the event to LSL\n",
    "                outlet.push_sample([event_marker])\n",
    "                print(f\"Sent to LSL: {event_marker} at {timestamp}\")\n",
    "\n",
    "                # Send acknowledgment back to the client\n",
    "                await websocket.send(f\"LSL Received: {event_marker}\")\n",
    "\n",
    "            except json.JSONDecodeError:\n",
    "                print(\"Error: Received non-JSON message\")\n",
    "\n",
    "    except websockets.exceptions.ConnectionClosed:\n",
    "        print(\"Client disconnected\")\n",
    "\n",
    "async def main():\n",
    "    print(\"Starting WebSocket Server on ws://localhost:8765\")\n",
    "    async with websockets.serve(handle_connection, \"localhost\", 8765):\n",
    "        await asyncio.Future()  # Keep the server running\n",
    "\n",
    "# Use the current event loop or start a new one if needed.\n",
    "try:\n",
    "    loop = asyncio.get_running_loop()\n",
    "    loop.create_task(main())\n",
    "    print(\"WebSocket server running in background...\")\n",
    "except RuntimeError:\n",
    "    asyncio.run(main())"
   ]
  }
 ],
 "metadata": {
  "kernelspec": {
   "display_name": "WebSocketServer",
   "language": "python",
   "name": "python3"
  },
  "language_info": {
   "codemirror_mode": {
    "name": "ipython",
    "version": 3
   },
   "file_extension": ".py",
   "mimetype": "text/x-python",
   "name": "python",
   "nbconvert_exporter": "python",
   "pygments_lexer": "ipython3",
   "version": "3.13.2"
  }
 },
 "nbformat": 4,
 "nbformat_minor": 2
}
